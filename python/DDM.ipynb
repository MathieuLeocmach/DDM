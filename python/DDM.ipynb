{
 "metadata": {
  "name": ""
 },
 "nbformat": 3,
 "nbformat_minor": 0,
 "worksheets": [
  {
   "cells": [
    {
     "cell_type": "heading",
     "level": 1,
     "metadata": {},
     "source": [
      "Image analysis"
     ]
    },
    {
     "cell_type": "markdown",
     "metadata": {},
     "source": [
      "Cerbino, R. & Trappe, V. Differential dynamic microscopy: Probing wave vector dependent dynamics with a microscope. Phys. Rev. Lett. 100, 1\u20134 (2008)."
     ]
    },
    {
     "cell_type": "heading",
     "level": 2,
     "metadata": {},
     "source": [
      "Definition of all the building blocks"
     ]
    },
    {
     "cell_type": "markdown",
     "metadata": {},
     "source": [
      "Import necessary libraries"
     ]
    },
    {
     "cell_type": "code",
     "collapsed": false,
     "input": [
      "import numpy as np\n",
      "from matplotlib.pylab import imread"
     ],
     "language": "python",
     "metadata": {},
     "outputs": [],
     "prompt_number": 1
    },
    {
     "cell_type": "markdown",
     "metadata": {},
     "source": [
      "DDM is based on the analysis of a video, i.e. a stack of N images stored on the disk. Here we suppose that the filenames follow a pattern like `'mydir/myfile_t{:03d}.tif'` so we can obtain the file name at time `t` by doing:"
     ]
    },
    {
     "cell_type": "code",
     "collapsed": false,
     "input": [
      "pattern = 'mydir/myfile_t{:03d}.tif'\n",
      "print pattern.format(15)"
     ],
     "language": "python",
     "metadata": {},
     "outputs": [
      {
       "output_type": "stream",
       "stream": "stdout",
       "text": [
        "mydir/myfile_t015.tif\n"
       ]
      }
     ],
     "prompt_number": 9
    },
    {
     "cell_type": "markdown",
     "metadata": {},
     "source": [
      "To manage image reading, keeping track of the number of images, etc. we define a class that we can initialize with the filename pattern and the number of images in the stack. The image at time t can be obtained simply by `stack[t]`."
     ]
    },
    {
     "cell_type": "code",
     "collapsed": false,
     "input": [
      "class ImageStack(object):\n",
      "    \"\"\"A stack of images on disk with a name pattern like 'mydir\\myfile_t{:03d}.tif'\"\"\"\n",
      "    def __init__(self, pattern, Nbimages, t0=1):\n",
      "        \"\"\"The numbering can start at 0 or 1\"\"\"\n",
      "        self.pattern = pattern\n",
      "        self.t0 = t0\n",
      "        self.Nbimages = Nbimages\n",
      "        #get the images shape while checking that the last image do exist\n",
      "        self.shape = imread(pattern.format(Nbimages-1+t0)).shape\n",
      "        #for some monochrome image format, imread makes 4 channels out of one\n",
      "        self.enforceMono = len(self.shape)>2\n",
      "        if self.enforceMono:\n",
      "            self.shape = self.shape[:-1]\n",
      "            \n",
      "    def __len__():\n",
      "        return self.Nbimages\n",
      "            \n",
      "    def __get_item__(self, t):\n",
      "        \"\"\"returns the image at time t\"\"\"\n",
      "        assert t-self.t0 < self.Nbimages\n",
      "        im = imread(self.pattern.format(t + self.t0))\n",
      "        if self.enforceMono:\n",
      "            return im[...,0]\n",
      "        return im\n",
      "        "
     ],
     "language": "python",
     "metadata": {},
     "outputs": [],
     "prompt_number": 6
    },
    {
     "cell_type": "markdown",
     "metadata": {},
     "source": [
      "Define the function at the heart of DDM:\n",
      "$$\\left|\\widehat{\\Delta I}\\right|^2(\\vec{q}, t, \\Delta t) = \\left|\\mathcal{F}\\left[I(\\vec{r}, t+\\Delta t) - I(\\vec{r}, t)\\right]\\right|^2$$\n",
      "where $I(\\vec{r}, t)$ is the intensity of the image at time $t$ at position $\\vec{r}$ and $\\mathcal{F}$ is the Fourier transform."
     ]
    },
    {
     "cell_type": "code",
     "collapsed": false,
     "input": [
      "def spectrumDiff(im0, im1):\n",
      "    \"\"\"Compute the squared modulus of the 2D Fourier Transform of the difference between im0 and im1\"\"\"\n",
      "    return np.abs(np.fft.fft2(im1-im0.astype(float)))**2"
     ],
     "language": "python",
     "metadata": {},
     "outputs": [],
     "prompt_number": 2
    },
    {
     "cell_type": "markdown",
     "metadata": {},
     "source": [
      "A single couple of images is not enough to get good statistics. For a fixed time interval `dt`, we take at most `maxNCouples` couples of images evenly spead in the available range of times."
     ]
    },
    {
     "cell_type": "code",
     "collapsed": false,
     "input": [
      "def timeAveraged(stack, dt, maxNCouples=1000):\n",
      "    \"\"\"Does at most maxNCouples spectreDiff on regularly spaced couples of images. \n",
      "    Separation within couple is dt.\"\"\"\n",
      "    #Spread initial times over the available range\n",
      "    increment = max([(len(stack)-dt)/maxNCouples, 1])\n",
      "    initialTimes = np.arange(0, len(stack)-dt, increment)\n",
      "    #perform the time average\n",
      "    avgFFT = np.zeros(stack.shape)\n",
      "    for t in couples:\n",
      "        avgFFT += spectreDiff(stack[t], stack[t+dt])\n",
      "    return avgFFT / len(couples)"
     ],
     "language": "python",
     "metadata": {},
     "outputs": [],
     "prompt_number": 7
    },
    {
     "cell_type": "markdown",
     "metadata": {},
     "source": [
      "Define a class able to perform radial averaging of FFT spectra. For the sake of performance, a RadialAverager instance has a fixed shape and can only process spectra of this shape. This is not a limitation since all the images in a stack do have the same shape."
     ]
    },
    {
     "cell_type": "code",
     "collapsed": false,
     "input": [
      "class RadialAverager(object):\n",
      "    \"\"\"Radial average of a 2D array centred on (0,0), like the result of fft2d.\"\"\"\n",
      "    def __init__(self, shape):\n",
      "        \"\"\"A RadialAverager instance can process only arrays of a given shape, fixed at instanciation.\"\"\"\n",
      "        assert len(shape)==2\n",
      "        #matrix of distances\n",
      "        self.dists = np.sqrt(np.fft.fftfreq(shape[0])[:,None]**2 +  np.fft.fftfreq(shape[1])[None,:]**2)\n",
      "        #discretize distances into bins\n",
      "        self.bins = np.arange(max(shape)/2+1)/float(max(shape))\n",
      "        #number of pixels at each distance\n",
      "        self.hd = np.histogram(self.dists, self.bins)[0]\n",
      "    \n",
      "    def __call__(self, im):\n",
      "        \"\"\"Perform and return the radial average of the specrum 'im'\"\"\"\n",
      "        assert im.shape == self.dists.shape\n",
      "        hw = np.histogram(self.dists, self.bins, weights=im)[0]\n",
      "        return hw/self.hd"
     ],
     "language": "python",
     "metadata": {},
     "outputs": [],
     "prompt_number": 3
    },
    {
     "cell_type": "markdown",
     "metadata": {},
     "source": [
      "We won't perform all those steps for every time interval, it would be too time consuming. So we sample time intervals logarithmically."
     ]
    },
    {
     "cell_type": "code",
     "collapsed": false,
     "input": [
      "def logSpaced(L, pointsPerDecade=15):\n",
      "    \"\"\"Generate an array of log spaced integers smaller than L\"\"\"\n",
      "    nbdecades = np.log10(L)\n",
      "    return np.unique(np.logspace(\n",
      "        start=0, stop=nbdecades, \n",
      "        num=nbdecades * pointsPerDecade, \n",
      "        base=10, endpoint=False\n",
      "        ).astype(int))"
     ],
     "language": "python",
     "metadata": {},
     "outputs": [],
     "prompt_number": 8
    },
    {
     "cell_type": "markdown",
     "metadata": {},
     "source": [
      "Finally, we put everything together to obtain \n",
      "$$\\mathcal{D}(\\Delta t,q) = \\left\\langle \\left|\\widehat{\\Delta I}\\right|^2 (\\vec{q}, t, \\Delta t)\\right\\rangle$$ \n",
      "were $\\langle.\\rangle$ is the average on initial time $t$ and the orientation of $\\vec{q}$."
     ]
    },
    {
     "cell_type": "code",
     "collapsed": false,
     "input": [
      "def ddm(stack, idts, maxNCouples=1000):\n",
      "    \"\"\"Perform time averaged and radial averaged DDM for given time intervals.\n",
      "    Returns DDM\"\"\"\n",
      "    ra = RadialAverager(stack.shape)\n",
      "    DDM = np.zeros((len(idts), len(ra.hd)))\n",
      "    for i, idt in enumerate(idts):\n",
      "        DDM[i] = ra(timeAveraged(images, idt, navmax))\n",
      "    return DDM"
     ],
     "language": "python",
     "metadata": {},
     "outputs": [],
     "prompt_number": 11
    },
    {
     "cell_type": "heading",
     "level": 2,
     "metadata": {},
     "source": [
      "A typical analysis"
     ]
    },
    {
     "cell_type": "markdown",
     "metadata": {},
     "source": [
      "To cover a wide range of time scales, we have acquired a first stack of 4000 images at 400 Hz and a second similar stack at 4 Hz. With this procedure, we cover time scales between 2.5 ms and 1000 s, but we have to merge the results.\n",
      "\n",
      "First, we perform DDM on both stacks."
     ]
    },
    {
     "cell_type": "code",
     "collapsed": false,
     "input": [
      "patterns = [r'D:\\David\\Acquisition\\29_05\\1103_Souche1\\1103_50\u00b5L_2h_512x512_4000Im_400\\1103_0_{:05d}.tif',\n",
      "            r'D:\\David\\Acquisition\\29_05\\1103_Souche1\\1103_50\u00b5L_2h_512x512_4000Im_4\\1103_0_{:05d}.tif']\n",
      "frequencies = [400,4]\n",
      "nbimages = 4000\n",
      "#pixelSize = 6450/10. #in nanometre\n",
      "pointsPerDecade = 15\n",
      "maxNCouples = 1000\n",
      "idts = logSpaced(nbimages, pointsPerDecade)\n",
      "dts = [idts/freq for freq in frequencies]\n",
      "\n",
      "DDMs = [ddm(ImageStack(pattern, nbimages), idts, maxNCouples) for pattern in patterns]"
     ],
     "language": "python",
     "metadata": {},
     "outputs": []
    },
    {
     "cell_type": "markdown",
     "metadata": {},
     "source": [
      "Then the we merge the two sets of data by scaling the data at 4 Hz so that both values at 0.25 s are equal. Finally, we average the values of the curves at 4 Hz and 400 Hz in the first third of their overlap interval."
     ]
    },
    {
     "cell_type": "code",
     "collapsed": false,
     "input": [
      "#Find the closest time at 400Hz to the smallest time at 4Hz\n",
      "boundary = np.argmin(np.abs(dts[0] - dts[1][0]))\n",
      "#Rescale the value of radial average at 4 Hz according to the value at t=boundary for 400Hz\n",
      "DDM[1] *= DDM[0][boundary] / DDM[1][0]\n",
      "#find the first third of their overlap\n",
      "overlap0 = (len(DDM[0]) - boundary)/3\n",
      "overlap1 = np.argmin(np.abs(dts[1] - dts[0][boundary+overlap]))\n",
      "#interpolate on this first third the DDM at 400Hz on the times at 4Hz\n",
      "interpolated = np.transpose([\n",
      "    np.interp(\n",
      "        dts[1][:overlap1], \n",
      "        dts[0][boundary:boundary+overlap0], \n",
      "        v)\n",
      "    for v in DDM[0][boundary:boundary+overlap0].T])\n",
      "#do a smooth transition on this first third\n",
      "x = (dts[1][:overlap1]/dts[1][overlap1])[:,None]\n",
      "transition = (1-x) * interpolated + x * DDM[1][:overlap1]\n",
      "# Merge 400Hz, transition and 4Hz\n",
      "dtMerge = np.concatenate([dts[0][:boundary], dts[1]])\n",
      "DDMMerge = np.concatenate([DDM[0][:boundary], transition, DDM[1][overlap1:]], axis=0)"
     ],
     "language": "python",
     "metadata": {},
     "outputs": []
    },
    {
     "cell_type": "markdown",
     "metadata": {},
     "source": [
      "Now we can export the merged results (adapt to the folder you want to save to)"
     ]
    },
    {
     "cell_type": "code",
     "collapsed": false,
     "input": [
      "np.save('DDM.npy', DDMMerge)\n",
      "np.save('dt.npy', dtMerge)"
     ],
     "language": "python",
     "metadata": {},
     "outputs": []
    }
   ],
   "metadata": {}
  }
 ]
}