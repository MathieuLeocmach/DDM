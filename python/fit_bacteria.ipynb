{
 "metadata": {
  "name": ""
 },
 "nbformat": 3,
 "nbformat_minor": 0,
 "worksheets": [
  {
   "cells": [
    {
     "cell_type": "heading",
     "level": 1,
     "metadata": {},
     "source": [
      "Analysis of DMM data from bacteria"
     ]
    },
    {
     "cell_type": "markdown",
     "metadata": {},
     "source": [
      "Import necessary libraries"
     ]
    },
    {
     "cell_type": "code",
     "collapsed": false,
     "input": [
      "import numpy as np\n",
      "from scipy.optimize import leastsq\n",
      "from matplotlib.pylab import *\n",
      "from matplotlib.colors import LogNorm\n",
      "%matplotlib inline"
     ],
     "language": "python",
     "metadata": {},
     "outputs": [],
     "prompt_number": 2
    },
    {
     "cell_type": "heading",
     "level": 2,
     "metadata": {},
     "source": [
      "Fitting"
     ]
    },
    {
     "cell_type": "markdown",
     "metadata": {},
     "source": [
      "Define all functions necessary for the fit"
     ]
    },
    {
     "cell_type": "code",
     "collapsed": false,
     "input": [
      "def Pv(dts, q, Z, tr):\n",
      "    a = (Z+1)*tr/dts\n",
      "    return a/Z * np.sin(Z * np.arctan(1/a)) * (1 + a**(-2))**(Z/2)\n",
      "\n",
      "ISF = lambda dts, q, Z, tr, td, alpha: np.exp(-dts/td) * ((1-alpha) + alpha * Pv(dts, q, Z, tr))\n",
      "LogDDM = lambda p, q, dts: np.log(p[0] * (1 - ISF(dts, q, *p[2:])) + p[1]);"
     ],
     "language": "python",
     "metadata": {},
     "outputs": [],
     "prompt_number": 3
    },
    {
     "cell_type": "markdown",
     "metadata": {},
     "source": [
      "Read the tables of $\\mathcal{D}(\\Delta t, q)$ and $\\Delta t$ from files. Set the pixel size and thus the scale of wavenumbers $q$. Set the longest time index fit."
     ]
    },
    {
     "cell_type": "code",
     "collapsed": false,
     "input": [
      "DDM = np.load('DDM_bacteria.npy')\n",
      "dts = np.load('dt_bacteria.npy')\n",
      "pixelSize = 6.450/10. #in micrometre\n",
      "qs = 2*np.pi/(2*DDM.shape[-1]*pixelSize) * np.arange(DDM.shape[-1])\n",
      "tmax = -6"
     ],
     "language": "python",
     "metadata": {},
     "outputs": []
    },
    {
     "cell_type": "markdown",
     "metadata": {},
     "source": [
      "Perform the fit at each $q$. Generate the values of the fitted function"
     ]
    },
    {
     "cell_type": "code",
     "collapsed": false,
     "input": [
      "params = np.zeros((DDM.shape[-1], 6))\n",
      "matrixfit = np.zeros(DDD[:tmax].T.shape)\n",
      "for iq, ddm in enumerate(DDM[:tmax].T):\n",
      "    params[iq] = np.leastsq(\n",
      "        #function to minimize\n",
      "        lambda p, q, dts, ddm: LogDDM(p, q, dts) - np.log(ddm),\n",
      "        #initial parameters\n",
      "        [ddm.ptp(), ddm.min(), 1/(17e4 * qs[iq]^2), 0.5, 1/(10000*qs[iq]), 1],\n",
      "        #data on which to perform minimization\n",
      "        args=(qs[iq], dts[:tmax], ddm)\n",
      "        )[0]\n",
      "    matrixfit[iq] = LogDDM(params[iq], qs[iq], dts[:tmax])"
     ],
     "language": "python",
     "metadata": {},
     "outputs": []
    },
    {
     "cell_type": "markdown",
     "metadata": {},
     "source": [
      "Save (adapt to the folder you want to save to)."
     ]
    },
    {
     "cell_type": "code",
     "collapsed": false,
     "input": [
      "np.savetxt('bacteria.params', np.column_stack((qs, params)), header='q(nm)\\tA\\tB\\tZ\\ttr\\ttd\\talpha')\n",
      "np.save('matrixfit_bacteria.npy', matrixfit)"
     ],
     "language": "python",
     "metadata": {},
     "outputs": []
    },
    {
     "cell_type": "heading",
     "level": 2,
     "metadata": {},
     "source": [
      "Analyse fit results"
     ]
    },
    {
     "cell_type": "markdown",
     "metadata": {},
     "source": [
      "Display the correlation functions as function of $\\Delta t$, $q\\Delta t$ (ballistic scaling) and $q^2\\Delta t$ (diffusive scaling)."
     ]
    },
    {
     "cell_type": "code",
     "collapsed": false,
     "input": [
      "ax1 = subplot(1,3,1)\n",
      "for q, ddm, (A, B, Z, tr, td, alpha) in zip(qs, DDM[:tmax].T, params):\n",
      "    plot(dts[:-tmax], ddm, 'o', color=cm.autumn(q/2.5))\n",
      "    plot(dts[:-tmax], ISF(dts, q, Z, tr, td, alpha), '-', color=cm.autumn(q/2500))\n",
      "ylabel(r'$f(q,\\Delta t)$')\n",
      "xlabel(r'$\\Delta t \\text{ (s)}$')\n",
      "\n",
      "ax2 = subplot(1,3,2, sharey=ax1)\n",
      "setp(ax2.get_yticklabels(), visible=False)\n",
      "for q, ddm, (A, B, Z, tr, td, alpha) in zip(qs, DDM[:tmax].T, params):\n",
      "    plot(q*dts[:-tmax], ddm, 'o', color=cm.autumn(q/2.5))\n",
      "    plot(q*dts[:-tmax], ISF(dts, q, Z, tr, td, alpha), '-', color=cm.autumn(q/2500))\n",
      "xlabel(r'$q\\Delta t \\text{ (s/\u00b5m)}$')\n",
      "\n",
      "ax2 = subplot(1,3,3, sharey=ax1)\n",
      "setp(ax2.get_yticklabels(), visible=False)\n",
      "for q, ddm, (A, B, Z, tr, td, alpha) in zip(qs, DDM[:tmax].T, params):\n",
      "    plot(q*dts[:-tmax], ddm, 'o', color=cm.autumn(q/2.5))\n",
      "    plot(q*dts[:-tmax], ISF(dts, q, Z, tr, td, alpha), '-', color=cm.autumn(q/2500))\n",
      "xlabel(r'$q^2\\Delta t \\text{ (s/\u00b5m^2)}$')"
     ],
     "language": "python",
     "metadata": {},
     "outputs": []
    },
    {
     "cell_type": "markdown",
     "metadata": {},
     "source": [
      "Display the fit parameters relative to the velocity distribution"
     ]
    },
    {
     "cell_type": "code",
     "collapsed": false,
     "input": [
      "ax1 = subplot(2,1,1)\n",
      "plot(qs, params[:,-1], 'o')\n",
      "ylabel(r'$\\alpha$')\n",
      "\n",
      "ax2 = subplot(2,1,2, sharex=ax1)\n",
      "plot(qs, params[:,2], 'o')\n",
      "ylabel(r'$Z$')\n",
      "xscale('log')\n",
      "xlabel(r'$q \\text{ \u00b5m}^{-1}$')"
     ],
     "language": "python",
     "metadata": {},
     "outputs": []
    },
    {
     "cell_type": "markdown",
     "metadata": {},
     "source": [
      "Perform and show the fit on $\\tau_r$ and $\\tau_d$, print the mean velocity $\\bar{v}$ and the diffusion coefficient $D$."
     ]
    },
    {
     "cell_type": "code",
     "collapsed": false,
     "input": [
      "v = np.exp(-leastsq(\n",
      "    lambda p, q, tr: p[0] - np.log(q) - np.log(tr),\n",
      "    [-1.],\n",
      "    args=(qs, params[3])\n",
      "    )[0][0])\n",
      "D = np.exp(-leastsq(\n",
      "    lambda p, q, td: p[0] - 2*np.log(q) - np.log(td),\n",
      "    [-1.],\n",
      "    args=(qs, params[4])\n",
      "    )[0][0])\n",
      "plot(qs, params[3], 'ob')\n",
      "plot(qs, 1/(v*qs), '-k')\n",
      "plot(qs, params[4], 'or')\n",
      "plot(qs, 1/(D*qs**2), '-k')"
     ],
     "language": "python",
     "metadata": {},
     "outputs": []
    }
   ],
   "metadata": {}
  }
 ]
}